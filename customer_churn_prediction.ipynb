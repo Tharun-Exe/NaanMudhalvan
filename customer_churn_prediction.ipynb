{
  "cells": [
    {
      "cell_type": "markdown",
      "metadata": {
        "id": "view-in-github",
        "colab_type": "text"
      },
      "source": [
        "<a href=\"https://colab.research.google.com/github/Tharun-Exe/NaanMudhalvan/blob/main/customer_churn_prediction.ipynb\" target=\"_parent\"><img src=\"https://colab.research.google.com/assets/colab-badge.svg\" alt=\"Open In Colab\"/></a>"
      ]
    },
    {
      "cell_type": "code",
      "execution_count": null,
      "id": "88831019",
      "metadata": {
        "execution": {
          "iopub.execute_input": "2023-10-17T13:03:33.011459Z",
          "iopub.status.busy": "2023-10-17T13:03:33.010529Z",
          "iopub.status.idle": "2023-10-17T13:03:34.811364Z",
          "shell.execute_reply": "2023-10-17T13:03:34.809892Z"
        },
        "papermill": {
          "duration": 1.815697,
          "end_time": "2023-10-17T13:03:34.814333",
          "exception": false,
          "start_time": "2023-10-17T13:03:32.998636",
          "status": "completed"
        },
        "tags": [],
        "id": "88831019"
      },
      "outputs": [],
      "source": [
        "import numpy as np\n",
        "import pandas as pd\n",
        "import matplotlib.pyplot as plt\n",
        "import seaborn as sns\n",
        "import missingno as msno\n",
        "import warnings\n",
        "warnings.filterwarnings(\"ignore\")"
      ]
    },
    {
      "cell_type": "code",
      "execution_count": null,
      "id": "ed37a6b0",
      "metadata": {
        "execution": {
          "iopub.execute_input": "2023-10-17T13:03:34.837868Z",
          "iopub.status.busy": "2023-10-17T13:03:34.837377Z",
          "iopub.status.idle": "2023-10-17T13:03:35.377127Z",
          "shell.execute_reply": "2023-10-17T13:03:35.376123Z"
        },
        "papermill": {
          "duration": 0.55444,
          "end_time": "2023-10-17T13:03:35.379544",
          "exception": false,
          "start_time": "2023-10-17T13:03:34.825104",
          "status": "completed"
        },
        "tags": [],
        "id": "ed37a6b0"
      },
      "outputs": [],
      "source": [
        "from sklearn.experimental import enable_iterative_imputer\n",
        "from sklearn.impute import IterativeImputer\n",
        "from sklearn.preprocessing import LabelEncoder"
      ]
    },
    {
      "cell_type": "code",
      "execution_count": null,
      "id": "e6fce009",
      "metadata": {
        "execution": {
          "iopub.execute_input": "2023-10-17T13:03:35.402520Z",
          "iopub.status.busy": "2023-10-17T13:03:35.402089Z",
          "iopub.status.idle": "2023-10-17T13:03:35.407538Z",
          "shell.execute_reply": "2023-10-17T13:03:35.405839Z"
        },
        "papermill": {
          "duration": 0.019555,
          "end_time": "2023-10-17T13:03:35.409717",
          "exception": false,
          "start_time": "2023-10-17T13:03:35.390162",
          "status": "completed"
        },
        "tags": [],
        "id": "e6fce009"
      },
      "outputs": [],
      "source": [
        "pd.options.display.max_columns = None"
      ]
    },
    {
      "cell_type": "code",
      "execution_count": null,
      "id": "40dac5ef",
      "metadata": {
        "execution": {
          "iopub.execute_input": "2023-10-17T13:03:35.453441Z",
          "iopub.status.busy": "2023-10-17T13:03:35.452878Z",
          "iopub.status.idle": "2023-10-17T13:03:35.519756Z",
          "shell.execute_reply": "2023-10-17T13:03:35.518438Z"
        },
        "papermill": {
          "duration": 0.081667,
          "end_time": "2023-10-17T13:03:35.522385",
          "exception": false,
          "start_time": "2023-10-17T13:03:35.440718",
          "status": "completed"
        },
        "tags": [],
        "id": "40dac5ef"
      },
      "outputs": [],
      "source": [
        "data = pd.read_csv(\"/content/WA_Fn-UseC_-Telco-Customer-Churn.csv\")"
      ]
    },
    {
      "cell_type": "code",
      "execution_count": null,
      "id": "50494755",
      "metadata": {
        "execution": {
          "iopub.execute_input": "2023-10-17T13:03:35.545964Z",
          "iopub.status.busy": "2023-10-17T13:03:35.545574Z",
          "iopub.status.idle": "2023-10-17T13:03:35.578968Z",
          "shell.execute_reply": "2023-10-17T13:03:35.577868Z"
        },
        "papermill": {
          "duration": 0.047926,
          "end_time": "2023-10-17T13:03:35.581387",
          "exception": false,
          "start_time": "2023-10-17T13:03:35.533461",
          "status": "completed"
        },
        "tags": [],
        "id": "50494755"
      },
      "outputs": [],
      "source": [
        "data.head()"
      ]
    },
    {
      "cell_type": "code",
      "execution_count": null,
      "id": "dd6349bb",
      "metadata": {
        "execution": {
          "iopub.execute_input": "2023-10-17T13:03:35.605413Z",
          "iopub.status.busy": "2023-10-17T13:03:35.604329Z",
          "iopub.status.idle": "2023-10-17T13:03:35.637801Z",
          "shell.execute_reply": "2023-10-17T13:03:35.636997Z"
        },
        "papermill": {
          "duration": 0.048294,
          "end_time": "2023-10-17T13:03:35.640523",
          "exception": false,
          "start_time": "2023-10-17T13:03:35.592229",
          "status": "completed"
        },
        "tags": [],
        "id": "dd6349bb"
      },
      "outputs": [],
      "source": [
        "data.info()"
      ]
    },
    {
      "cell_type": "code",
      "execution_count": null,
      "id": "8963cf12",
      "metadata": {
        "execution": {
          "iopub.execute_input": "2023-10-17T13:03:35.665130Z",
          "iopub.status.busy": "2023-10-17T13:03:35.663977Z",
          "iopub.status.idle": "2023-10-17T13:03:35.677971Z",
          "shell.execute_reply": "2023-10-17T13:03:35.676569Z"
        },
        "papermill": {
          "duration": 0.028471,
          "end_time": "2023-10-17T13:03:35.680610",
          "exception": false,
          "start_time": "2023-10-17T13:03:35.652139",
          "status": "completed"
        },
        "tags": [],
        "id": "8963cf12"
      },
      "outputs": [],
      "source": [
        "data.drop('customerID', axis = 1, inplace = True)"
      ]
    },
    {
      "cell_type": "code",
      "execution_count": null,
      "id": "7ee9a295",
      "metadata": {
        "execution": {
          "iopub.execute_input": "2023-10-17T13:03:35.706400Z",
          "iopub.status.busy": "2023-10-17T13:03:35.706037Z",
          "iopub.status.idle": "2023-10-17T13:03:35.714281Z",
          "shell.execute_reply": "2023-10-17T13:03:35.713214Z"
        },
        "papermill": {
          "duration": 0.023902,
          "end_time": "2023-10-17T13:03:35.716603",
          "exception": false,
          "start_time": "2023-10-17T13:03:35.692701",
          "status": "completed"
        },
        "tags": [],
        "id": "7ee9a295"
      },
      "outputs": [],
      "source": [
        "set(''.join(data['TotalCharges'].tolist()))"
      ]
    },
    {
      "cell_type": "code",
      "execution_count": null,
      "id": "0e41bb96",
      "metadata": {
        "execution": {
          "iopub.execute_input": "2023-10-17T13:03:35.739568Z",
          "iopub.status.busy": "2023-10-17T13:03:35.738811Z",
          "iopub.status.idle": "2023-10-17T13:03:35.746520Z",
          "shell.execute_reply": "2023-10-17T13:03:35.745373Z"
        },
        "papermill": {
          "duration": 0.021313,
          "end_time": "2023-10-17T13:03:35.748528",
          "exception": false,
          "start_time": "2023-10-17T13:03:35.727215",
          "status": "completed"
        },
        "tags": [],
        "id": "0e41bb96"
      },
      "outputs": [],
      "source": [
        "data['TotalCharges'] = data['TotalCharges'].replace(' ', np.nan)"
      ]
    },
    {
      "cell_type": "code",
      "execution_count": null,
      "id": "2a31c511",
      "metadata": {
        "execution": {
          "iopub.execute_input": "2023-10-17T13:03:35.773055Z",
          "iopub.status.busy": "2023-10-17T13:03:35.772385Z",
          "iopub.status.idle": "2023-10-17T13:03:35.778397Z",
          "shell.execute_reply": "2023-10-17T13:03:35.777491Z"
        },
        "papermill": {
          "duration": 0.020942,
          "end_time": "2023-10-17T13:03:35.780748",
          "exception": false,
          "start_time": "2023-10-17T13:03:35.759806",
          "status": "completed"
        },
        "tags": [],
        "id": "2a31c511"
      },
      "outputs": [],
      "source": [
        "data['TotalCharges'] = data['TotalCharges'].astype('float')"
      ]
    },
    {
      "cell_type": "code",
      "execution_count": null,
      "id": "deb5d130",
      "metadata": {
        "execution": {
          "iopub.execute_input": "2023-10-17T13:03:35.869247Z",
          "iopub.status.busy": "2023-10-17T13:03:35.868401Z",
          "iopub.status.idle": "2023-10-17T13:03:35.885828Z",
          "shell.execute_reply": "2023-10-17T13:03:35.884445Z"
        },
        "papermill": {
          "duration": 0.096853,
          "end_time": "2023-10-17T13:03:35.888494",
          "exception": false,
          "start_time": "2023-10-17T13:03:35.791641",
          "status": "completed"
        },
        "tags": [],
        "id": "deb5d130"
      },
      "outputs": [],
      "source": [
        "data.info()"
      ]
    },
    {
      "cell_type": "code",
      "execution_count": null,
      "id": "14c54734",
      "metadata": {
        "execution": {
          "iopub.execute_input": "2023-10-17T13:03:35.934939Z",
          "iopub.status.busy": "2023-10-17T13:03:35.934574Z",
          "iopub.status.idle": "2023-10-17T13:03:35.939546Z",
          "shell.execute_reply": "2023-10-17T13:03:35.938631Z"
        },
        "papermill": {
          "duration": 0.019457,
          "end_time": "2023-10-17T13:03:35.941312",
          "exception": false,
          "start_time": "2023-10-17T13:03:35.921855",
          "status": "completed"
        },
        "tags": [],
        "id": "14c54734"
      },
      "outputs": [],
      "source": [
        "data.columns = data.columns.str.lower()"
      ]
    },
    {
      "cell_type": "code",
      "execution_count": null,
      "id": "2be6c51b",
      "metadata": {
        "execution": {
          "iopub.execute_input": "2023-10-17T13:03:35.964852Z",
          "iopub.status.busy": "2023-10-17T13:03:35.964254Z",
          "iopub.status.idle": "2023-10-17T13:03:35.970903Z",
          "shell.execute_reply": "2023-10-17T13:03:35.969464Z"
        },
        "papermill": {
          "duration": 0.020691,
          "end_time": "2023-10-17T13:03:35.973077",
          "exception": false,
          "start_time": "2023-10-17T13:03:35.952386",
          "status": "completed"
        },
        "tags": [],
        "id": "2be6c51b"
      },
      "outputs": [],
      "source": [
        "data.columns"
      ]
    },
    {
      "cell_type": "code",
      "execution_count": null,
      "id": "c47f7adc",
      "metadata": {
        "execution": {
          "iopub.execute_input": "2023-10-17T13:03:35.997635Z",
          "iopub.status.busy": "2023-10-17T13:03:35.997242Z",
          "iopub.status.idle": "2023-10-17T13:03:36.001883Z",
          "shell.execute_reply": "2023-10-17T13:03:36.000855Z"
        },
        "papermill": {
          "duration": 0.019966,
          "end_time": "2023-10-17T13:03:36.003898",
          "exception": false,
          "start_time": "2023-10-17T13:03:35.983932",
          "status": "completed"
        },
        "tags": [],
        "id": "c47f7adc"
      },
      "outputs": [],
      "source": [
        "num_cols = ['tenure','monthlycharges', 'totalcharges']"
      ]
    },
    {
      "cell_type": "code",
      "execution_count": null,
      "id": "11b61c0d",
      "metadata": {
        "execution": {
          "iopub.execute_input": "2023-10-17T13:03:36.028245Z",
          "iopub.status.busy": "2023-10-17T13:03:36.027849Z",
          "iopub.status.idle": "2023-10-17T13:03:36.053328Z",
          "shell.execute_reply": "2023-10-17T13:03:36.052053Z"
        },
        "papermill": {
          "duration": 0.04023,
          "end_time": "2023-10-17T13:03:36.055616",
          "exception": false,
          "start_time": "2023-10-17T13:03:36.015386",
          "status": "completed"
        },
        "tags": [],
        "id": "11b61c0d"
      },
      "outputs": [],
      "source": [
        "data[num_cols].describe().T"
      ]
    },
    {
      "cell_type": "code",
      "execution_count": null,
      "id": "35c71716",
      "metadata": {
        "execution": {
          "iopub.execute_input": "2023-10-17T13:03:36.081609Z",
          "iopub.status.busy": "2023-10-17T13:03:36.081270Z",
          "iopub.status.idle": "2023-10-17T13:03:36.129279Z",
          "shell.execute_reply": "2023-10-17T13:03:36.128152Z"
        },
        "papermill": {
          "duration": 0.064291,
          "end_time": "2023-10-17T13:03:36.131877",
          "exception": false,
          "start_time": "2023-10-17T13:03:36.067586",
          "status": "completed"
        },
        "tags": [],
        "id": "35c71716"
      },
      "outputs": [],
      "source": [
        "data[[col for col in data.columns.difference(num_cols) if col != 'seniorcitizen']].describe().T"
      ]
    },
    {
      "cell_type": "code",
      "execution_count": null,
      "id": "66cd915c",
      "metadata": {
        "execution": {
          "iopub.execute_input": "2023-10-17T13:03:36.156513Z",
          "iopub.status.busy": "2023-10-17T13:03:36.155738Z",
          "iopub.status.idle": "2023-10-17T13:03:36.163596Z",
          "shell.execute_reply": "2023-10-17T13:03:36.162788Z"
        },
        "papermill": {
          "duration": 0.02206,
          "end_time": "2023-10-17T13:03:36.165378",
          "exception": false,
          "start_time": "2023-10-17T13:03:36.143318",
          "status": "completed"
        },
        "tags": [],
        "id": "66cd915c"
      },
      "outputs": [],
      "source": [
        "data['seniorcitizen'].value_counts()"
      ]
    },
    {
      "cell_type": "code",
      "execution_count": null,
      "id": "2f29fa2a",
      "metadata": {
        "execution": {
          "iopub.execute_input": "2023-10-17T13:03:36.189866Z",
          "iopub.status.busy": "2023-10-17T13:03:36.189106Z",
          "iopub.status.idle": "2023-10-17T13:03:36.194202Z",
          "shell.execute_reply": "2023-10-17T13:03:36.193278Z"
        },
        "papermill": {
          "duration": 0.01943,
          "end_time": "2023-10-17T13:03:36.196030",
          "exception": false,
          "start_time": "2023-10-17T13:03:36.176600",
          "status": "completed"
        },
        "tags": [],
        "id": "2f29fa2a"
      },
      "outputs": [],
      "source": [
        "ord_cols = ['dependents', 'gender', 'paperlessbilling', 'partner', 'phoneservice']\n",
        "label = 'churn'\n",
        "cat_cols = ['seniorcitizen', 'multiplelines', 'internetservice', 'onlinesecurity', 'onlinebackup', 'deviceprotection', 'techsupport', 'streamingtv', 'streamingmovies', 'contract','paymentmethod']"
      ]
    },
    {
      "cell_type": "code",
      "execution_count": null,
      "id": "75b454f1",
      "metadata": {
        "execution": {
          "iopub.execute_input": "2023-10-17T13:03:36.220740Z",
          "iopub.status.busy": "2023-10-17T13:03:36.219722Z",
          "iopub.status.idle": "2023-10-17T13:03:37.312412Z",
          "shell.execute_reply": "2023-10-17T13:03:37.311173Z"
        },
        "papermill": {
          "duration": 1.107511,
          "end_time": "2023-10-17T13:03:37.314835",
          "exception": false,
          "start_time": "2023-10-17T13:03:36.207324",
          "status": "completed"
        },
        "tags": [],
        "id": "75b454f1"
      },
      "outputs": [],
      "source": [
        "plt.figure(figsize = (15, 4))\n",
        "for i, col in enumerate(num_cols):\n",
        "    plt.subplot(1, 3, i+1)\n",
        "    sns.histplot(data, x= col, color = 'red', alpha = 0.2, kde = True)\n",
        "plt.tight_layout()\n",
        "plt.show()"
      ]
    },
    {
      "cell_type": "code",
      "execution_count": null,
      "id": "10d08103",
      "metadata": {
        "execution": {
          "iopub.execute_input": "2023-10-17T13:03:37.340914Z",
          "iopub.status.busy": "2023-10-17T13:03:37.340575Z",
          "iopub.status.idle": "2023-10-17T13:03:38.529709Z",
          "shell.execute_reply": "2023-10-17T13:03:38.527651Z"
        },
        "papermill": {
          "duration": 1.207084,
          "end_time": "2023-10-17T13:03:38.534143",
          "exception": false,
          "start_time": "2023-10-17T13:03:37.327059",
          "status": "completed"
        },
        "tags": [],
        "id": "10d08103"
      },
      "outputs": [],
      "source": [
        "plt.figure(figsize = (15, 4))\n",
        "for i, col in enumerate(num_cols):\n",
        "    plt.subplot(1, 3, i+1)\n",
        "    sns.rugplot(data, x = col, hue= label, height = 0.1)\n",
        "    sns.boxplot(data, x = col, width = 0.3)\n",
        "plt.tight_layout()\n",
        "plt.show()"
      ]
    },
    {
      "cell_type": "code",
      "execution_count": null,
      "id": "d2358364",
      "metadata": {
        "execution": {
          "iopub.execute_input": "2023-10-17T13:03:38.564132Z",
          "iopub.status.busy": "2023-10-17T13:03:38.563735Z",
          "iopub.status.idle": "2023-10-17T13:03:39.107995Z",
          "shell.execute_reply": "2023-10-17T13:03:39.106905Z"
        },
        "papermill": {
          "duration": 0.561876,
          "end_time": "2023-10-17T13:03:39.110302",
          "exception": false,
          "start_time": "2023-10-17T13:03:38.548426",
          "status": "completed"
        },
        "tags": [],
        "id": "d2358364"
      },
      "outputs": [],
      "source": [
        "plt.figure(figsize = (15, 4))\n",
        "for i, col in enumerate(num_cols):\n",
        "    plt.subplot(1, 3, i+1)\n",
        "    sns.boxplot(data, x = label, y = col, width = 0.4)\n",
        "plt.tight_layout()\n",
        "plt.show()"
      ]
    },
    {
      "cell_type": "code",
      "execution_count": null,
      "id": "5342bc95",
      "metadata": {
        "execution": {
          "iopub.execute_input": "2023-10-17T13:03:39.140207Z",
          "iopub.status.busy": "2023-10-17T13:03:39.139830Z",
          "iopub.status.idle": "2023-10-17T13:03:42.559094Z",
          "shell.execute_reply": "2023-10-17T13:03:42.558110Z"
        },
        "papermill": {
          "duration": 3.440652,
          "end_time": "2023-10-17T13:03:42.564468",
          "exception": false,
          "start_time": "2023-10-17T13:03:39.123816",
          "status": "completed"
        },
        "tags": [],
        "id": "5342bc95"
      },
      "outputs": [],
      "source": [
        "plt.figure(figsize = (15, 26))\n",
        "for i, col in enumerate(data.columns.difference(num_cols)[1:]):\n",
        "    plt.subplot(6, 3, i+1)\n",
        "    ax = sns.countplot(data, x = col, hue = label)\n",
        "    ax.bar_label(ax.containers[0])\n",
        "    ax.bar_label(ax.containers[1])\n",
        "    plt.xticks(rotation = 15)\n",
        "plt.tight_layout()\n",
        "plt.show()"
      ]
    },
    {
      "cell_type": "code",
      "execution_count": null,
      "id": "3f882a57",
      "metadata": {
        "execution": {
          "iopub.execute_input": "2023-10-17T13:03:42.602280Z",
          "iopub.status.busy": "2023-10-17T13:03:42.601260Z",
          "iopub.status.idle": "2023-10-17T13:03:42.795509Z",
          "shell.execute_reply": "2023-10-17T13:03:42.794406Z"
        },
        "papermill": {
          "duration": 0.215711,
          "end_time": "2023-10-17T13:03:42.797842",
          "exception": false,
          "start_time": "2023-10-17T13:03:42.582131",
          "status": "completed"
        },
        "tags": [],
        "id": "3f882a57"
      },
      "outputs": [],
      "source": [
        "plt.figure(figsize = (4,4))\n",
        "ax = sns.countplot(data, x = label)\n",
        "ax.bar_label(ax.containers[0])\n",
        "plt.show()"
      ]
    },
    {
      "cell_type": "code",
      "execution_count": null,
      "id": "849963bc",
      "metadata": {
        "execution": {
          "iopub.execute_input": "2023-10-17T13:03:42.905617Z",
          "iopub.status.busy": "2023-10-17T13:03:42.905241Z",
          "iopub.status.idle": "2023-10-17T13:03:42.910571Z",
          "shell.execute_reply": "2023-10-17T13:03:42.909391Z"
        },
        "papermill": {
          "duration": 0.026772,
          "end_time": "2023-10-17T13:03:42.912571",
          "exception": false,
          "start_time": "2023-10-17T13:03:42.885799",
          "status": "completed"
        },
        "tags": [],
        "id": "849963bc"
      },
      "outputs": [],
      "source": [
        "def lencoder(col):\n",
        "    le = LabelEncoder()\n",
        "    data[col] = le.fit_transform(data[col])\n",
        "    return data[col]"
      ]
    },
    {
      "cell_type": "code",
      "execution_count": null,
      "id": "e7fd2370",
      "metadata": {
        "execution": {
          "iopub.execute_input": "2023-10-17T13:03:42.951487Z",
          "iopub.status.busy": "2023-10-17T13:03:42.950838Z",
          "iopub.status.idle": "2023-10-17T13:03:42.965064Z",
          "shell.execute_reply": "2023-10-17T13:03:42.963935Z"
        },
        "papermill": {
          "duration": 0.036303,
          "end_time": "2023-10-17T13:03:42.967337",
          "exception": false,
          "start_time": "2023-10-17T13:03:42.931034",
          "status": "completed"
        },
        "tags": [],
        "id": "e7fd2370"
      },
      "outputs": [],
      "source": [
        "for col in ord_cols:\n",
        "    data[col] = lencoder(col)"
      ]
    },
    {
      "cell_type": "code",
      "execution_count": null,
      "id": "16a4a37c",
      "metadata": {
        "execution": {
          "iopub.execute_input": "2023-10-17T13:03:43.005317Z",
          "iopub.status.busy": "2023-10-17T13:03:43.004931Z",
          "iopub.status.idle": "2023-10-17T13:03:43.012098Z",
          "shell.execute_reply": "2023-10-17T13:03:43.011025Z"
        },
        "papermill": {
          "duration": 0.028379,
          "end_time": "2023-10-17T13:03:43.014109",
          "exception": false,
          "start_time": "2023-10-17T13:03:42.985730",
          "status": "completed"
        },
        "tags": [],
        "id": "16a4a37c"
      },
      "outputs": [],
      "source": [
        "data['churn'] = lencoder('churn')"
      ]
    },
    {
      "cell_type": "code",
      "execution_count": null,
      "id": "4c0011c5",
      "metadata": {
        "execution": {
          "iopub.execute_input": "2023-10-17T13:03:43.088010Z",
          "iopub.status.busy": "2023-10-17T13:03:43.087569Z",
          "iopub.status.idle": "2023-10-17T13:03:43.108356Z",
          "shell.execute_reply": "2023-10-17T13:03:43.107192Z"
        },
        "papermill": {
          "duration": 0.042847,
          "end_time": "2023-10-17T13:03:43.110783",
          "exception": false,
          "start_time": "2023-10-17T13:03:43.067936",
          "status": "completed"
        },
        "tags": [],
        "id": "4c0011c5"
      },
      "outputs": [],
      "source": [
        "ohe_data = pd.get_dummies(data)"
      ]
    },
    {
      "cell_type": "code",
      "execution_count": null,
      "id": "d95eb5e0",
      "metadata": {
        "execution": {
          "iopub.execute_input": "2023-10-17T13:03:43.149468Z",
          "iopub.status.busy": "2023-10-17T13:03:43.149133Z",
          "iopub.status.idle": "2023-10-17T13:03:43.166173Z",
          "shell.execute_reply": "2023-10-17T13:03:43.165054Z"
        },
        "papermill": {
          "duration": 0.039381,
          "end_time": "2023-10-17T13:03:43.168565",
          "exception": false,
          "start_time": "2023-10-17T13:03:43.129184",
          "status": "completed"
        },
        "tags": [],
        "id": "d95eb5e0"
      },
      "outputs": [],
      "source": [
        "ohe_data[ohe_data.select_dtypes(include = 'bool').columns] = ohe_data[ohe_data.select_dtypes(include = 'bool').columns].astype('int')"
      ]
    },
    {
      "cell_type": "code",
      "execution_count": null,
      "id": "d514e2b4",
      "metadata": {
        "execution": {
          "iopub.execute_input": "2023-10-17T13:03:43.206942Z",
          "iopub.status.busy": "2023-10-17T13:03:43.206517Z",
          "iopub.status.idle": "2023-10-17T13:03:43.217866Z",
          "shell.execute_reply": "2023-10-17T13:03:43.216845Z"
        },
        "papermill": {
          "duration": 0.033338,
          "end_time": "2023-10-17T13:03:43.220334",
          "exception": false,
          "start_time": "2023-10-17T13:03:43.186996",
          "status": "completed"
        },
        "tags": [],
        "id": "d514e2b4"
      },
      "outputs": [],
      "source": [
        "data = ohe_data.copy()"
      ]
    },
    {
      "cell_type": "code",
      "execution_count": null,
      "id": "a395c42e",
      "metadata": {
        "execution": {
          "iopub.execute_input": "2023-10-17T13:03:43.292847Z",
          "iopub.status.busy": "2023-10-17T13:03:43.292515Z",
          "iopub.status.idle": "2023-10-17T13:03:43.296942Z",
          "shell.execute_reply": "2023-10-17T13:03:43.295830Z"
        },
        "papermill": {
          "duration": 0.025544,
          "end_time": "2023-10-17T13:03:43.299074",
          "exception": false,
          "start_time": "2023-10-17T13:03:43.273530",
          "status": "completed"
        },
        "tags": [],
        "id": "a395c42e"
      },
      "outputs": [],
      "source": [
        "imp_mean = IterativeImputer(random_state = 42)"
      ]
    },
    {
      "cell_type": "code",
      "execution_count": null,
      "id": "1ed5229d",
      "metadata": {
        "execution": {
          "iopub.execute_input": "2023-10-17T13:03:43.336589Z",
          "iopub.status.busy": "2023-10-17T13:03:43.336194Z",
          "iopub.status.idle": "2023-10-17T13:03:45.994091Z",
          "shell.execute_reply": "2023-10-17T13:03:45.992541Z"
        },
        "papermill": {
          "duration": 2.68116,
          "end_time": "2023-10-17T13:03:45.998026",
          "exception": false,
          "start_time": "2023-10-17T13:03:43.316866",
          "status": "completed"
        },
        "tags": [],
        "id": "1ed5229d"
      },
      "outputs": [],
      "source": [
        "data_impute = imp_mean.fit_transform(data)"
      ]
    },
    {
      "cell_type": "code",
      "execution_count": null,
      "id": "84ef5aca",
      "metadata": {
        "execution": {
          "iopub.execute_input": "2023-10-17T13:03:46.118114Z",
          "iopub.status.busy": "2023-10-17T13:03:46.117742Z",
          "iopub.status.idle": "2023-10-17T13:03:46.122441Z",
          "shell.execute_reply": "2023-10-17T13:03:46.121343Z"
        },
        "papermill": {
          "duration": 0.040912,
          "end_time": "2023-10-17T13:03:46.124431",
          "exception": false,
          "start_time": "2023-10-17T13:03:46.083519",
          "status": "completed"
        },
        "tags": [],
        "id": "84ef5aca"
      },
      "outputs": [],
      "source": [
        "data = pd.DataFrame(data_impute, columns = data.columns)"
      ]
    },
    {
      "cell_type": "code",
      "execution_count": null,
      "id": "5c7bb860",
      "metadata": {
        "execution": {
          "iopub.execute_input": "2023-10-17T13:03:46.199143Z",
          "iopub.status.busy": "2023-10-17T13:03:46.198765Z",
          "iopub.status.idle": "2023-10-17T13:04:30.436594Z",
          "shell.execute_reply": "2023-10-17T13:04:30.435483Z"
        },
        "papermill": {
          "duration": 44.259353,
          "end_time": "2023-10-17T13:04:30.438868",
          "exception": false,
          "start_time": "2023-10-17T13:03:46.179515",
          "status": "completed"
        },
        "tags": [],
        "id": "5c7bb860"
      },
      "outputs": [],
      "source": [
        "!pip -q install pycaret"
      ]
    },
    {
      "cell_type": "code",
      "execution_count": null,
      "id": "b56b4deb",
      "metadata": {
        "execution": {
          "iopub.execute_input": "2023-10-17T13:04:30.477552Z",
          "iopub.status.busy": "2023-10-17T13:04:30.477166Z",
          "iopub.status.idle": "2023-10-17T13:04:46.818877Z",
          "shell.execute_reply": "2023-10-17T13:04:46.817518Z"
        },
        "papermill": {
          "duration": 16.36444,
          "end_time": "2023-10-17T13:04:46.821649",
          "exception": false,
          "start_time": "2023-10-17T13:04:30.457209",
          "status": "completed"
        },
        "tags": [],
        "id": "b56b4deb"
      },
      "outputs": [],
      "source": [
        "!pip -q install --upgrade scipy"
      ]
    },
    {
      "cell_type": "code",
      "execution_count": null,
      "id": "264d947e",
      "metadata": {
        "execution": {
          "iopub.execute_input": "2023-10-17T13:04:46.861910Z",
          "iopub.status.busy": "2023-10-17T13:04:46.861543Z",
          "iopub.status.idle": "2023-10-17T13:04:57.663483Z",
          "shell.execute_reply": "2023-10-17T13:04:57.662320Z"
        },
        "papermill": {
          "duration": 10.824651,
          "end_time": "2023-10-17T13:04:57.665889",
          "exception": false,
          "start_time": "2023-10-17T13:04:46.841238",
          "status": "completed"
        },
        "tags": [],
        "id": "264d947e"
      },
      "outputs": [],
      "source": [
        "!pip -q install --upgrade yellowbrick"
      ]
    },
    {
      "cell_type": "code",
      "execution_count": null,
      "id": "b84f8baf",
      "metadata": {
        "execution": {
          "iopub.execute_input": "2023-10-17T13:04:57.704514Z",
          "iopub.status.busy": "2023-10-17T13:04:57.704129Z",
          "iopub.status.idle": "2023-10-17T13:04:57.795662Z",
          "shell.execute_reply": "2023-10-17T13:04:57.794679Z"
        },
        "papermill": {
          "duration": 0.113511,
          "end_time": "2023-10-17T13:04:57.797780",
          "exception": false,
          "start_time": "2023-10-17T13:04:57.684269",
          "status": "completed"
        },
        "tags": [],
        "id": "b84f8baf"
      },
      "outputs": [],
      "source": [
        "import pycaret"
      ]
    },
    {
      "cell_type": "code",
      "execution_count": null,
      "id": "b73bac8c",
      "metadata": {
        "execution": {
          "iopub.execute_input": "2023-10-17T13:04:57.836735Z",
          "iopub.status.busy": "2023-10-17T13:04:57.836411Z",
          "iopub.status.idle": "2023-10-17T13:05:01.594340Z",
          "shell.execute_reply": "2023-10-17T13:05:01.593284Z"
        },
        "papermill": {
          "duration": 3.78075,
          "end_time": "2023-10-17T13:05:01.597039",
          "exception": false,
          "start_time": "2023-10-17T13:04:57.816289",
          "status": "completed"
        },
        "tags": [],
        "id": "b73bac8c"
      },
      "outputs": [],
      "source": [
        "from pycaret.classification import *"
      ]
    },
    {
      "cell_type": "code",
      "execution_count": null,
      "id": "a4718bf6",
      "metadata": {
        "execution": {
          "iopub.execute_input": "2023-10-17T13:05:01.634384Z",
          "iopub.status.busy": "2023-10-17T13:05:01.634042Z",
          "iopub.status.idle": "2023-10-17T13:05:04.487602Z",
          "shell.execute_reply": "2023-10-17T13:05:04.486601Z"
        },
        "papermill": {
          "duration": 2.87512,
          "end_time": "2023-10-17T13:05:04.490041",
          "exception": false,
          "start_time": "2023-10-17T13:05:01.614921",
          "status": "completed"
        },
        "tags": [],
        "id": "a4718bf6"
      },
      "outputs": [],
      "source": [
        "s = setup(data, target = 'churn', session_id = 42, data_split_stratify=True)"
      ]
    },
    {
      "cell_type": "code",
      "execution_count": null,
      "id": "62935567",
      "metadata": {
        "execution": {
          "iopub.execute_input": "2023-10-17T13:05:04.527806Z",
          "iopub.status.busy": "2023-10-17T13:05:04.527466Z",
          "iopub.status.idle": "2023-10-17T13:06:15.594628Z",
          "shell.execute_reply": "2023-10-17T13:06:15.593520Z"
        },
        "papermill": {
          "duration": 71.088795,
          "end_time": "2023-10-17T13:06:15.597051",
          "exception": false,
          "start_time": "2023-10-17T13:05:04.508256",
          "status": "completed"
        },
        "tags": [],
        "id": "62935567"
      },
      "outputs": [],
      "source": [
        "best_model = compare_models(sort = 'AUC')"
      ]
    },
    {
      "cell_type": "code",
      "execution_count": null,
      "id": "406c36bf",
      "metadata": {
        "execution": {
          "iopub.execute_input": "2023-10-17T13:06:15.636611Z",
          "iopub.status.busy": "2023-10-17T13:06:15.635872Z",
          "iopub.status.idle": "2023-10-17T13:06:15.641651Z",
          "shell.execute_reply": "2023-10-17T13:06:15.640655Z"
        },
        "papermill": {
          "duration": 0.028377,
          "end_time": "2023-10-17T13:06:15.644226",
          "exception": false,
          "start_time": "2023-10-17T13:06:15.615849",
          "status": "completed"
        },
        "tags": [],
        "id": "406c36bf"
      },
      "outputs": [],
      "source": [
        "print(best_model)"
      ]
    },
    {
      "cell_type": "code",
      "execution_count": null,
      "id": "d6a72a33",
      "metadata": {
        "execution": {
          "iopub.execute_input": "2023-10-17T13:06:15.684330Z",
          "iopub.status.busy": "2023-10-17T13:06:15.683899Z",
          "iopub.status.idle": "2023-10-17T13:06:16.221856Z",
          "shell.execute_reply": "2023-10-17T13:06:16.221157Z"
        },
        "papermill": {
          "duration": 0.560233,
          "end_time": "2023-10-17T13:06:16.224084",
          "exception": false,
          "start_time": "2023-10-17T13:06:15.663851",
          "status": "completed"
        },
        "tags": [],
        "id": "d6a72a33"
      },
      "outputs": [],
      "source": [
        "plt.figure(figsize = (7, 4))\n",
        "plot_model(best_model, plot = 'feature')"
      ]
    },
    {
      "cell_type": "code",
      "execution_count": null,
      "id": "e19157ca",
      "metadata": {
        "execution": {
          "iopub.execute_input": "2023-10-17T13:06:16.266017Z",
          "iopub.status.busy": "2023-10-17T13:06:16.265436Z",
          "iopub.status.idle": "2023-10-17T13:06:16.962490Z",
          "shell.execute_reply": "2023-10-17T13:06:16.961459Z"
        },
        "papermill": {
          "duration": 0.721457,
          "end_time": "2023-10-17T13:06:16.964979",
          "exception": false,
          "start_time": "2023-10-17T13:06:16.243522",
          "status": "completed"
        },
        "tags": [],
        "id": "e19157ca"
      },
      "outputs": [],
      "source": [
        "plt.figure(figsize = (7, 4))\n",
        "plot_model(best_model, plot = 'auc')"
      ]
    },
    {
      "cell_type": "code",
      "execution_count": null,
      "id": "b4729a7b",
      "metadata": {
        "execution": {
          "iopub.execute_input": "2023-10-17T13:06:17.008096Z",
          "iopub.status.busy": "2023-10-17T13:06:17.007693Z",
          "iopub.status.idle": "2023-10-17T13:06:17.634440Z",
          "shell.execute_reply": "2023-10-17T13:06:17.633228Z"
        },
        "papermill": {
          "duration": 0.651291,
          "end_time": "2023-10-17T13:06:17.636750",
          "exception": false,
          "start_time": "2023-10-17T13:06:16.985459",
          "status": "completed"
        },
        "tags": [],
        "id": "b4729a7b"
      },
      "outputs": [],
      "source": [
        "plt.figure(figsize = (4,3))\n",
        "plot_model(best_model, plot = 'confusion_matrix')"
      ]
    },
    {
      "cell_type": "code",
      "execution_count": null,
      "id": "b4974493",
      "metadata": {
        "execution": {
          "iopub.execute_input": "2023-10-17T13:06:17.857577Z",
          "iopub.status.busy": "2023-10-17T13:06:17.856523Z",
          "iopub.status.idle": "2023-10-17T13:06:17.861581Z",
          "shell.execute_reply": "2023-10-17T13:06:17.860901Z"
        },
        "papermill": {
          "duration": 0.030935,
          "end_time": "2023-10-17T13:06:17.863636",
          "exception": false,
          "start_time": "2023-10-17T13:06:17.832701",
          "status": "completed"
        },
        "tags": [],
        "id": "b4974493"
      },
      "outputs": [],
      "source": [
        "def calculate_profit(y, y_pred):\n",
        "    tp = np.where((y_pred == 1) & (y == 1), 4000, 0)\n",
        "    fp = np.where((y_pred == 1) & (y == 0), -1000, 0)\n",
        "    return np.sum([tp,fp])"
      ]
    },
    {
      "cell_type": "code",
      "execution_count": null,
      "id": "4b800b2e",
      "metadata": {
        "execution": {
          "iopub.execute_input": "2023-10-17T13:06:17.908275Z",
          "iopub.status.busy": "2023-10-17T13:06:17.907267Z",
          "iopub.status.idle": "2023-10-17T13:06:17.915896Z",
          "shell.execute_reply": "2023-10-17T13:06:17.914800Z"
        },
        "papermill": {
          "duration": 0.033256,
          "end_time": "2023-10-17T13:06:17.918094",
          "exception": false,
          "start_time": "2023-10-17T13:06:17.884838",
          "status": "completed"
        },
        "tags": [],
        "id": "4b800b2e"
      },
      "outputs": [],
      "source": [
        "add_metric('profit', 'Profit', calculate_profit)"
      ]
    },
    {
      "cell_type": "code",
      "execution_count": null,
      "id": "a605610a",
      "metadata": {
        "execution": {
          "iopub.execute_input": "2023-10-17T13:06:17.965096Z",
          "iopub.status.busy": "2023-10-17T13:06:17.964153Z",
          "iopub.status.idle": "2023-10-17T13:07:46.265741Z",
          "shell.execute_reply": "2023-10-17T13:07:46.264629Z"
        },
        "papermill": {
          "duration": 88.327565,
          "end_time": "2023-10-17T13:07:46.267925",
          "exception": false,
          "start_time": "2023-10-17T13:06:17.940360",
          "status": "completed"
        },
        "tags": [],
        "id": "a605610a"
      },
      "outputs": [],
      "source": [
        "best_model = compare_models(sort = 'Profit')"
      ]
    },
    {
      "cell_type": "code",
      "execution_count": null,
      "id": "a6e59aa4",
      "metadata": {
        "execution": {
          "iopub.execute_input": "2023-10-17T13:07:46.313699Z",
          "iopub.status.busy": "2023-10-17T13:07:46.313357Z",
          "iopub.status.idle": "2023-10-17T13:07:46.918215Z",
          "shell.execute_reply": "2023-10-17T13:07:46.917441Z"
        },
        "papermill": {
          "duration": 0.630169,
          "end_time": "2023-10-17T13:07:46.920384",
          "exception": false,
          "start_time": "2023-10-17T13:07:46.290215",
          "status": "completed"
        },
        "tags": [],
        "id": "a6e59aa4"
      },
      "outputs": [],
      "source": [
        "plt.figure(figsize = (4,3))\n",
        "plot_model(best_model, plot = 'confusion_matrix')"
      ]
    },
    {
      "cell_type": "code",
      "execution_count": null,
      "id": "743f6690",
      "metadata": {
        "execution": {
          "iopub.execute_input": "2023-10-17T13:07:47.061386Z",
          "iopub.status.busy": "2023-10-17T13:07:47.060193Z",
          "iopub.status.idle": "2023-10-17T13:07:47.252026Z",
          "shell.execute_reply": "2023-10-17T13:07:47.251061Z"
        },
        "papermill": {
          "duration": 0.218681,
          "end_time": "2023-10-17T13:07:47.254062",
          "exception": false,
          "start_time": "2023-10-17T13:07:47.035381",
          "status": "completed"
        },
        "tags": [],
        "id": "743f6690"
      },
      "outputs": [],
      "source": [
        "save_model(best_model, 'churn-predict')"
      ]
    }
  ],
  "metadata": {
    "kernelspec": {
      "display_name": "Python 3",
      "language": "python",
      "name": "python3"
    },
    "language_info": {
      "codemirror_mode": {
        "name": "ipython",
        "version": 3
      },
      "file_extension": ".py",
      "mimetype": "text/x-python",
      "name": "python",
      "nbconvert_exporter": "python",
      "pygments_lexer": "ipython3",
      "version": "3.10.12"
    },
    "papermill": {
      "default_parameters": {},
      "duration": 260.103818,
      "end_time": "2023-10-17T13:07:49.901467",
      "environment_variables": {},
      "exception": null,
      "input_path": "__notebook__.ipynb",
      "output_path": "__notebook__.ipynb",
      "parameters": {},
      "start_time": "2023-10-17T13:03:29.797649",
      "version": "2.4.0"
    },
    "colab": {
      "provenance": [],
      "include_colab_link": true
    }
  },
  "nbformat": 4,
  "nbformat_minor": 5
}